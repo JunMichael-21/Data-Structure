{
 "cells": [
  {
   "cell_type": "code",
   "execution_count": null,
   "id": "3661cc8f-83db-492a-b106-b6483203686c",
   "metadata": {},
   "outputs": [],
   "source": [
    "import numpy as np"
   ]
  },
  {
   "cell_type": "code",
   "execution_count": 24,
   "id": "7466237e-a079-46e6-a5fe-1a58974899fc",
   "metadata": {},
   "outputs": [
    {
     "name": "stdout",
     "output_type": "stream",
     "text": [
      "Matrix A: \n",
      " [[10 13 20]\n",
      " [21  9  1]]\n",
      "Matrix B: \n",
      " [[2 0 3]\n",
      " [1 2 8]]\n"
     ]
    }
   ],
   "source": [
    "#1.a.i\n",
    "JMT = [10, 13, 20]\n",
    "UIA = [21, 9, 1]\n",
    "Name = [JMT, UIA]\n",
    "\n",
    "#1.a.ii\n",
    "ID = [[2, 0, 3], [1, 2, 8]]\n",
    "\n",
    "m_A = np.array(Name)\n",
    "m_B = np.array(ID)\n",
    "\n",
    "print(\"Matrix A: \\n\", m_A) \n",
    "print(\"Matrix B: \\n\", m_B)"
   ]
  },
  {
   "cell_type": "code",
   "execution_count": 25,
   "id": "ce312bb6-f0e3-48ad-9891-cedf9bd1abdc",
   "metadata": {},
   "outputs": [
    {
     "name": "stdout",
     "output_type": "stream",
     "text": [
      "Matrix C: \n",
      " [[12 13 23]\n",
      " [22 11  9]]\n"
     ]
    }
   ],
   "source": [
    "#2. Matrix Addition \n",
    "\n",
    "M_A = np.array(m_A)\n",
    "M_B = np.array(m_B)\n",
    "\n",
    "M_C = M_A + M_B\n",
    "\n",
    "print(\"Matrix C: \\n\",  M_C)"
   ]
  },
  {
   "cell_type": "code",
   "execution_count": 27,
   "id": "283a29d9-9761-4d5a-8dab-c09760150cf1",
   "metadata": {},
   "outputs": [
    {
     "name": "stdout",
     "output_type": "stream",
     "text": [
      "Matrix D: \n",
      " [[20 26 40]\n",
      " [42 18  2]]\n"
     ]
    }
   ],
   "source": [
    "#3. Scalar Multiplication\n",
    "\n",
    "M_A = np.array(m_A)\n",
    "\n",
    "scalar = 2\n",
    "\n",
    "M_D = np.multiply(M_A, scalar)\n",
    "\n",
    "print(\"Matrix D: \\n\", M_D)"
   ]
  },
  {
   "cell_type": "code",
   "execution_count": 29,
   "id": "6c41102f-d7c5-4a95-a7b3-783c74a2039e",
   "metadata": {},
   "outputs": [
    {
     "name": "stdout",
     "output_type": "stream",
     "text": [
      "Matrix E: \n",
      " [[2 1]\n",
      " [0 2]\n",
      " [3 8]]\n"
     ]
    }
   ],
   "source": [
    "#4. Matrix Transpose\n",
    "\n",
    "M_B = np.array(m_B)\n",
    "\n",
    "M_E = np.transpose(M_B)\n",
    "\n",
    "print(\"Matrix E: \\n\", M_E)"
   ]
  },
  {
   "cell_type": "code",
   "execution_count": 50,
   "id": "1a8915c4-dc09-43c9-ae32-05fff471b976",
   "metadata": {},
   "outputs": [
    {
     "name": "stdout",
     "output_type": "stream",
     "text": [
      "Matrix F(a): \n",
      " [[ 93 222]\n",
      " [ 71 116]]\n"
     ]
    }
   ],
   "source": [
    "#5.Multiplication Matrix (a)\n",
    "\n",
    "M_C = (M_A + M_B)\n",
    "M_E = np.transpose(M_B)\n",
    "\n",
    "M_F = np.matmul(M_C, M_E)\n",
    "\n",
    "print(\"Matrix F(a): \\n\", M_F)"
   ]
  },
  {
   "cell_type": "code",
   "execution_count": 44,
   "id": "8533e4af-eb21-4f0c-b1b6-b5fa240741c2",
   "metadata": {},
   "outputs": [
    {
     "name": "stdout",
     "output_type": "stream",
     "text": [
      "Matrix F(b): \n",
      " [[ 93 222]\n",
      " [ 71 116]]\n"
     ]
    }
   ],
   "source": [
    "#5 Multiplication Matrix (b)\n",
    "\n",
    "M_C = (M_A + M_B)\n",
    "M_E = np.transpose(M_B)\n",
    "\n",
    "M_F = [[0,0],\n",
    "       [0,0]]\n",
    "\n",
    "M_F = np.dot(M_C, M_E)\n",
    "\n",
    "print(\"Matrix F(b): \\n\", M_F)"
   ]
  },
  {
   "cell_type": "code",
   "execution_count": 48,
   "id": "507c301a-9e5a-40a8-9452-a353643b94ce",
   "metadata": {},
   "outputs": [
    {
     "name": "stdout",
     "output_type": "stream",
     "text": [
      "Sum of Matrix C: \n",
      " 90\n"
     ]
    }
   ],
   "source": [
    "#6. Sum of all Elements\n",
    "\n",
    "M_C = (M_A + M_B)\n",
    "\n",
    "sum_C = np.sum(M_C)\n",
    "\n",
    "print(\"Sum of Matrix C: \\n\", sum_C)"
   ]
  },
  {
   "cell_type": "code",
   "execution_count": 49,
   "id": "a4b0294f-2c59-4139-8d34-7088b934cde0",
   "metadata": {},
   "outputs": [
    {
     "name": "stdout",
     "output_type": "stream",
     "text": [
      "Matrix G: \n",
      " [[0. 0. 0.]\n",
      " [0. 0. 0.]\n",
      " [0. 0. 0.]]\n"
     ]
    }
   ],
   "source": [
    "#7. Zero Matrix\n",
    "\n",
    "M_G = np.matrix(np.zeros((3,3)))\n",
    "\n",
    "print(\"Matrix G: \\n\", M_G)"
   ]
  }
 ],
 "metadata": {
  "kernelspec": {
   "display_name": "Python 3 (ipykernel)",
   "language": "python",
   "name": "python3"
  },
  "language_info": {
   "codemirror_mode": {
    "name": "ipython",
    "version": 3
   },
   "file_extension": ".py",
   "mimetype": "text/x-python",
   "name": "python",
   "nbconvert_exporter": "python",
   "pygments_lexer": "ipython3",
   "version": "3.12.7"
  }
 },
 "nbformat": 4,
 "nbformat_minor": 5
}
